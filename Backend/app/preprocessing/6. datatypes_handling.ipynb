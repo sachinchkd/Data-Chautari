{
 "cells": [
  {
   "cell_type": "code",
   "execution_count": 1,
   "metadata": {},
   "outputs": [],
   "source": [
    "import pandas as pd"
   ]
  },
  {
   "cell_type": "code",
   "execution_count": 2,
   "metadata": {},
   "outputs": [],
   "source": [
    "df = pd.read_csv('../data/final_cleaned_data.csv')"
   ]
  },
  {
   "cell_type": "code",
   "execution_count": 3,
   "metadata": {},
   "outputs": [
    {
     "name": "stdout",
     "output_type": "stream",
     "text": [
      "Missing values per column: \n",
      "Country                       0\n",
      "Repositories Count            0\n",
      "Followers                     0\n",
      "Most Used Language            0\n",
      "Total Stars                   0\n",
      "Account Created At            0\n",
      "Hireable                      0\n",
      "Unique Topics                 0\n",
      "Total Repository Size (KB)    0\n",
      "dtype: int64\n"
     ]
    }
   ],
   "source": [
    "missing_values = df.isnull().sum()\n",
    "print(\"Missing values per column: \")\n",
    "print(missing_values)"
   ]
  },
  {
   "cell_type": "code",
   "execution_count": 4,
   "metadata": {},
   "outputs": [
    {
     "name": "stdout",
     "output_type": "stream",
     "text": [
      "5019\n"
     ]
    }
   ],
   "source": [
    "check = df['Unique Topics'] == 'Unknown'\n",
    "x = df[check]\n",
    "print(len(x))"
   ]
  },
  {
   "cell_type": "code",
   "execution_count": 5,
   "metadata": {},
   "outputs": [
    {
     "name": "stdout",
     "output_type": "stream",
     "text": [
      "Country                       object\n",
      "Repositories Count             int64\n",
      "Followers                      int64\n",
      "Most Used Language            object\n",
      "Total Stars                    int64\n",
      "Account Created At            object\n",
      "Hireable                        bool\n",
      "Unique Topics                 object\n",
      "Total Repository Size (KB)     int64\n",
      "dtype: object\n"
     ]
    }
   ],
   "source": [
    "print(df.dtypes)"
   ]
  },
  {
   "cell_type": "code",
   "execution_count": 6,
   "metadata": {},
   "outputs": [],
   "source": [
    "# Convert Country and Most Used Language to string\n",
    "df['Country'] = df['Country'].astype('string')\n",
    "df['Most Used Language'] = df['Most Used Language'].astype('string')"
   ]
  },
  {
   "cell_type": "code",
   "execution_count": 7,
   "metadata": {},
   "outputs": [],
   "source": [
    "# Convert 'Unique Topics' to a list of strings (assuming it's a string of topics separated by commas)\n",
    "df['Unique Topics'] = df['Unique Topics'].apply(lambda x: x.split(',') if isinstance(x, str) else [])"
   ]
  },
  {
   "cell_type": "code",
   "execution_count": 8,
   "metadata": {},
   "outputs": [
    {
     "name": "stdout",
     "output_type": "stream",
     "text": [
      "Updated DataFrame Data Types:\n",
      "Country                       string[python]\n",
      "Repositories Count                     int64\n",
      "Followers                              int64\n",
      "Most Used Language            string[python]\n",
      "Total Stars                            int64\n",
      "Account Created At                    object\n",
      "Hireable                                bool\n",
      "Unique Topics                         object\n",
      "Total Repository Size (KB)             int64\n",
      "dtype: object\n"
     ]
    }
   ],
   "source": [
    "# Check the updated data types\n",
    "print(\"Updated DataFrame Data Types:\")\n",
    "print(df.dtypes)"
   ]
  },
  {
   "cell_type": "code",
   "execution_count": 9,
   "metadata": {},
   "outputs": [
    {
     "name": "stdout",
     "output_type": "stream",
     "text": [
      "0\n"
     ]
    }
   ],
   "source": [
    "check = df['Unique Topics'] == 'Unknown'\n",
    "x = df[check]\n",
    "print(len(x))"
   ]
  },
  {
   "cell_type": "code",
   "execution_count": 10,
   "metadata": {},
   "outputs": [
    {
     "name": "stdout",
     "output_type": "stream",
     "text": [
      "Results saved to '('../data/finalized_dataset.csv'.\n"
     ]
    }
   ],
   "source": [
    "df.to_csv('../data/finalized_dataset.csv', index=False)\n",
    "print(\"Results saved to '('../data/finalized_dataset.csv'.\")"
   ]
  },
  {
   "cell_type": "code",
   "execution_count": null,
   "metadata": {},
   "outputs": [],
   "source": []
  }
 ],
 "metadata": {
  "kernelspec": {
   "display_name": ".vnev",
   "language": "python",
   "name": "python3"
  },
  "language_info": {
   "codemirror_mode": {
    "name": "ipython",
    "version": 3
   },
   "file_extension": ".py",
   "mimetype": "text/x-python",
   "name": "python",
   "nbconvert_exporter": "python",
   "pygments_lexer": "ipython3",
   "version": "3.12.6"
  }
 },
 "nbformat": 4,
 "nbformat_minor": 2
}
