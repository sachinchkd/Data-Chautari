{
 "cells": [
  {
   "cell_type": "code",
   "execution_count": 1,
   "metadata": {},
   "outputs": [],
   "source": [
    "import pandas as pd"
   ]
  },
  {
   "cell_type": "code",
   "execution_count": 2,
   "metadata": {},
   "outputs": [],
   "source": [
    "# Load the CSV with correct parsing options\n",
    "df = pd.read_csv(r'../data/cleaned_dataset_step_2.csv')"
   ]
  },
  {
   "cell_type": "code",
   "execution_count": 3,
   "metadata": {},
   "outputs": [
    {
     "name": "stdout",
     "output_type": "stream",
     "text": [
      "10319\n"
     ]
    }
   ],
   "source": [
    "df.head()\n",
    "print(len(df))"
   ]
  },
  {
   "cell_type": "code",
   "execution_count": 4,
   "metadata": {},
   "outputs": [
    {
     "name": "stdout",
     "output_type": "stream",
     "text": [
      "Missing values per column: \n",
      "Country                       4265\n",
      "Repositories Count               0\n",
      "Followers                        0\n",
      "Most Used Language            2002\n",
      "Total Stars                      0\n",
      "Account Created At               0\n",
      "Hireable                         0\n",
      "Unique Topics                 6955\n",
      "Total Repository Size (KB)       0\n",
      "dtype: int64\n"
     ]
    }
   ],
   "source": [
    "missing_values = df.isnull().sum()\n",
    "print(\"Missing values per column: \")\n",
    "print(missing_values)"
   ]
  },
  {
   "cell_type": "code",
   "execution_count": 5,
   "metadata": {},
   "outputs": [
    {
     "name": "stdout",
     "output_type": "stream",
     "text": [
      "Country                        object\n",
      "Repositories Count            float64\n",
      "Followers                     float64\n",
      "Most Used Language             object\n",
      "Total Stars                   float64\n",
      "Account Created At             object\n",
      "Hireable                         bool\n",
      "Unique Topics                  object\n",
      "Total Repository Size (KB)    float64\n",
      "dtype: object\n"
     ]
    }
   ],
   "source": [
    "print(df.dtypes)"
   ]
  },
  {
   "cell_type": "code",
   "execution_count": 6,
   "metadata": {},
   "outputs": [
    {
     "name": "stdout",
     "output_type": "stream",
     "text": [
      "Number of repositories with no most used language and size 0: 1537\n"
     ]
    }
   ],
   "source": [
    "# Filter repositories where 'Most Used Language' is null and 'Total Repository Size (KB)' is 0\n",
    "empty_repos = df[(df['Most Used Language'].isnull()) & \n",
    "                 (df['Total Repository Size (KB)'] == 0)]\n",
    "\n",
    "# Count of those repos\n",
    "print(f\"Number of repositories with no most used language and size 0: {len(empty_repos)}\")"
   ]
  },
  {
   "cell_type": "code",
   "execution_count": 7,
   "metadata": {},
   "outputs": [
    {
     "name": "stdout",
     "output_type": "stream",
     "text": [
      "8782\n"
     ]
    }
   ],
   "source": [
    "# Drop rows where 'Most Used Language' is null and 'Total Repository Size (KB)' is 0\n",
    "df = df[~((df['Most Used Language'].isnull()) & \n",
    "          (df['Total Repository Size (KB)'] == 0))]\n",
    "\n",
    "# Verify if the rows are removed\n",
    "print(len(df))\n"
   ]
  },
  {
   "cell_type": "code",
   "execution_count": 8,
   "metadata": {},
   "outputs": [
    {
     "name": "stdout",
     "output_type": "stream",
     "text": [
      "Missing values per column after dropping Empty Repo with no Most Used Language: \n",
      "Country                       2919\n",
      "Repositories Count               0\n",
      "Followers                        0\n",
      "Most Used Language             465\n",
      "Total Stars                      0\n",
      "Account Created At               0\n",
      "Hireable                         0\n",
      "Unique Topics                 5427\n",
      "Total Repository Size (KB)       0\n",
      "dtype: int64\n"
     ]
    }
   ],
   "source": [
    "missing_values = df.isnull().sum()\n",
    "print(\"Missing values per column after dropping Empty Repo with no Most Used Language: \")\n",
    "print(missing_values)"
   ]
  },
  {
   "cell_type": "code",
   "execution_count": 9,
   "metadata": {},
   "outputs": [
    {
     "name": "stdout",
     "output_type": "stream",
     "text": [
      "113\n"
     ]
    }
   ],
   "source": [
    "unique_values = df['Most Used Language'].unique()\n",
    "\n",
    "print(len(unique_values))"
   ]
  },
  {
   "cell_type": "code",
   "execution_count": 10,
   "metadata": {},
   "outputs": [
    {
     "name": "stdout",
     "output_type": "stream",
     "text": [
      "Most Used Language\n",
      "JavaScript    2022\n",
      "Python        1270\n",
      "Ruby           896\n",
      "Java           633\n",
      "Go             321\n",
      "              ... \n",
      "Odin             1\n",
      "Nushell          1\n",
      "ColdFusion       1\n",
      "Nunjucks         1\n",
      "Haxe             1\n",
      "Name: count, Length: 112, dtype: int64\n"
     ]
    }
   ],
   "source": [
    "value_counts = df['Most Used Language'].value_counts()\n",
    "\n",
    "print(value_counts)"
   ]
  },
  {
   "cell_type": "code",
   "execution_count": 11,
   "metadata": {},
   "outputs": [
    {
     "name": "stdout",
     "output_type": "stream",
     "text": [
      "Total count of missing Top Repo, Repo count, total stars and followers:  329\n"
     ]
    },
    {
     "ename": "",
     "evalue": "",
     "output_type": "error",
     "traceback": [
      "\u001b[1;31mThe Kernel crashed while executing code in the current cell or a previous cell. \n",
      "\u001b[1;31mPlease review the code in the cell(s) to identify a possible cause of the failure. \n",
      "\u001b[1;31mClick <a href='https://aka.ms/vscodeJupyterKernelCrash'>here</a> for more info. \n",
      "\u001b[1;31mView Jupyter <a href='command:jupyter.viewOutput'>log</a> for further details."
     ]
    }
   ],
   "source": [
    "# checking if the missing values in Repositories Count, Total Repository Size (KB), Total Stars and Followers are the same\n",
    "missing_rows = df[df['Country'].isnull() & df['Most Used Language'].isnull()]\n",
    "print(\"Total count of missing Top Repo, Repo count, total stars and followers: \",len(missing_rows))"
   ]
  },
  {
   "cell_type": "code",
   "execution_count": 12,
   "metadata": {},
   "outputs": [
    {
     "name": "stdout",
     "output_type": "stream",
     "text": [
      "8453\n"
     ]
    }
   ],
   "source": [
    "df = df[~((df['Most Used Language'].isnull()) & \n",
    "          (df['Country'].isnull()))]\n",
    "\n",
    "# Verify if the rows are removed\n",
    "print(len(df))"
   ]
  },
  {
   "cell_type": "code",
   "execution_count": 13,
   "metadata": {},
   "outputs": [],
   "source": [
    "df.to_csv('../data/cleaned_dataset_step_3.csv', index=False)"
   ]
  },
  {
   "cell_type": "code",
   "execution_count": null,
   "metadata": {},
   "outputs": [],
   "source": []
  }
 ],
 "metadata": {
  "kernelspec": {
   "display_name": ".venv",
   "language": "python",
   "name": "python3"
  },
  "language_info": {
   "codemirror_mode": {
    "name": "ipython",
    "version": 3
   },
   "file_extension": ".py",
   "mimetype": "text/x-python",
   "name": "python",
   "nbconvert_exporter": "python",
   "pygments_lexer": "ipython3",
   "version": "3.12.6"
  }
 },
 "nbformat": 4,
 "nbformat_minor": 2
}
