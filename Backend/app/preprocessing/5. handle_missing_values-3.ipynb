{
 "cells": [
  {
   "cell_type": "code",
   "execution_count": 1,
   "metadata": {},
   "outputs": [],
   "source": [
    "import pandas as pd"
   ]
  },
  {
   "cell_type": "code",
   "execution_count": 2,
   "metadata": {},
   "outputs": [],
   "source": [
    "df = pd.read_csv(r'../data/manually_cleaned_dataset_step_5.csv')"
   ]
  },
  {
   "cell_type": "code",
   "execution_count": 3,
   "metadata": {},
   "outputs": [
    {
     "data": {
      "text/html": [
       "<div>\n",
       "<style scoped>\n",
       "    .dataframe tbody tr th:only-of-type {\n",
       "        vertical-align: middle;\n",
       "    }\n",
       "\n",
       "    .dataframe tbody tr th {\n",
       "        vertical-align: top;\n",
       "    }\n",
       "\n",
       "    .dataframe thead th {\n",
       "        text-align: right;\n",
       "    }\n",
       "</style>\n",
       "<table border=\"1\" class=\"dataframe\">\n",
       "  <thead>\n",
       "    <tr style=\"text-align: right;\">\n",
       "      <th></th>\n",
       "      <th>Country</th>\n",
       "      <th>Repositories Count</th>\n",
       "      <th>Followers</th>\n",
       "      <th>Most Used Language</th>\n",
       "      <th>Total Stars</th>\n",
       "      <th>Account Created At</th>\n",
       "      <th>Hireable</th>\n",
       "      <th>Unique Topics</th>\n",
       "      <th>Total Repository Size (KB)</th>\n",
       "    </tr>\n",
       "  </thead>\n",
       "  <tbody>\n",
       "    <tr>\n",
       "      <th>8448</th>\n",
       "      <td>NaN</td>\n",
       "      <td>2</td>\n",
       "      <td>4</td>\n",
       "      <td>Visual Basic</td>\n",
       "      <td>2</td>\n",
       "      <td>2009-02-20 17:33:40+00:00</td>\n",
       "      <td>False</td>\n",
       "      <td>NaN</td>\n",
       "      <td>2516</td>\n",
       "    </tr>\n",
       "    <tr>\n",
       "      <th>8449</th>\n",
       "      <td>NaN</td>\n",
       "      <td>10</td>\n",
       "      <td>5</td>\n",
       "      <td>Python</td>\n",
       "      <td>4</td>\n",
       "      <td>2009-02-20 17:35:10+00:00</td>\n",
       "      <td>False</td>\n",
       "      <td>NaN</td>\n",
       "      <td>17703</td>\n",
       "    </tr>\n",
       "    <tr>\n",
       "      <th>8450</th>\n",
       "      <td>NaN</td>\n",
       "      <td>1</td>\n",
       "      <td>4</td>\n",
       "      <td>C++</td>\n",
       "      <td>2</td>\n",
       "      <td>2009-02-20 18:02:09+00:00</td>\n",
       "      <td>False</td>\n",
       "      <td>NaN</td>\n",
       "      <td>1121</td>\n",
       "    </tr>\n",
       "    <tr>\n",
       "      <th>8451</th>\n",
       "      <td>NaN</td>\n",
       "      <td>1</td>\n",
       "      <td>5</td>\n",
       "      <td>PHP</td>\n",
       "      <td>3</td>\n",
       "      <td>2009-02-20 18:12:10+00:00</td>\n",
       "      <td>False</td>\n",
       "      <td>NaN</td>\n",
       "      <td>1052</td>\n",
       "    </tr>\n",
       "    <tr>\n",
       "      <th>8452</th>\n",
       "      <td>NaN</td>\n",
       "      <td>1</td>\n",
       "      <td>5</td>\n",
       "      <td>Java</td>\n",
       "      <td>2</td>\n",
       "      <td>2009-02-20 18:12:25+00:00</td>\n",
       "      <td>False</td>\n",
       "      <td>NaN</td>\n",
       "      <td>39630</td>\n",
       "    </tr>\n",
       "  </tbody>\n",
       "</table>\n",
       "</div>"
      ],
      "text/plain": [
       "     Country  Repositories Count  Followers Most Used Language  Total Stars  \\\n",
       "8448     NaN                   2          4       Visual Basic            2   \n",
       "8449     NaN                  10          5             Python            4   \n",
       "8450     NaN                   1          4                C++            2   \n",
       "8451     NaN                   1          5                PHP            3   \n",
       "8452     NaN                   1          5               Java            2   \n",
       "\n",
       "             Account Created At  Hireable Unique Topics  \\\n",
       "8448  2009-02-20 17:33:40+00:00     False           NaN   \n",
       "8449  2009-02-20 17:35:10+00:00     False           NaN   \n",
       "8450  2009-02-20 18:02:09+00:00     False           NaN   \n",
       "8451  2009-02-20 18:12:10+00:00     False           NaN   \n",
       "8452  2009-02-20 18:12:25+00:00     False           NaN   \n",
       "\n",
       "      Total Repository Size (KB)  \n",
       "8448                        2516  \n",
       "8449                       17703  \n",
       "8450                        1121  \n",
       "8451                        1052  \n",
       "8452                       39630  "
      ]
     },
     "execution_count": 3,
     "metadata": {},
     "output_type": "execute_result"
    }
   ],
   "source": [
    "df.tail()"
   ]
  },
  {
   "cell_type": "code",
   "execution_count": 4,
   "metadata": {},
   "outputs": [
    {
     "name": "stdout",
     "output_type": "stream",
     "text": [
      "Missing values per column: \n",
      "Country                       2627\n",
      "Repositories Count               0\n",
      "Followers                        0\n",
      "Most Used Language             136\n",
      "Total Stars                      0\n",
      "Account Created At               0\n",
      "Hireable                         0\n",
      "Unique Topics                 5127\n",
      "Total Repository Size (KB)       0\n",
      "dtype: int64\n"
     ]
    }
   ],
   "source": [
    "missing_values = df.isnull().sum()\n",
    "print(\"Missing values per column: \")\n",
    "print(missing_values)"
   ]
  },
  {
   "cell_type": "code",
   "execution_count": 5,
   "metadata": {},
   "outputs": [],
   "source": [
    "df['Country'] = df['Country'].fillna('Unknown')"
   ]
  },
  {
   "cell_type": "code",
   "execution_count": 6,
   "metadata": {},
   "outputs": [
    {
     "data": {
      "text/plain": [
       "array(['Afghanistan', 'Albania', 'Algeria', 'Argentina', 'Armenia',\n",
       "       'Australia', 'Austria', 'Bangladesh', 'Belarus', 'Belgium',\n",
       "       'Benin', 'Bolivia', 'Brazil', 'Bulgaria', 'Cambodia', 'Canada',\n",
       "       'Chile', 'China', 'Colombia', 'Costa Rica', 'Croatia', 'Cuba',\n",
       "       'Cyprus', 'Czech Republic', 'Denmark', 'Ecuador', 'Egypt',\n",
       "       'Ethiopia', 'Finland', 'France', 'Georgia', 'Germany', 'Ghana',\n",
       "       'Gibraltar', 'Greece', 'Hong Kong', 'Hungary', 'Iceland', 'India',\n",
       "       'Indonesia', 'Iran', 'Iraq', 'Ireland', 'Israel', 'Italy', 'Japan',\n",
       "       'Jordan', 'Kazakhstan', 'Kenya', 'Kuwait', 'Latvia', 'Lebanon',\n",
       "       'Lithuania', 'Malawi', 'Malaysia', 'Mauritius', 'Mexico',\n",
       "       'Moldova', 'Morocco', 'Mozambique', 'Myanmar', 'Nepal',\n",
       "       'Netherlands', 'New Zealand', 'Nicaragua', 'Nigeria', 'Norway',\n",
       "       'Pakistan', 'Palestine', 'Paraguay', 'Philippines', 'Poland',\n",
       "       'Portugal', 'Romania', 'Russia', 'Rwanda', 'Saudi Arabia',\n",
       "       'Scotland', 'Serbia', 'Singapore', 'Slovakia', 'Slovenia',\n",
       "       'Somalia', 'South Africa', 'South Korea', 'Spain', 'Sri Lanka',\n",
       "       'Sweden', 'Switzerland', 'Syria', 'Taiwan', 'Tanzania', 'Tasmania',\n",
       "       'Thailand', 'Tobago', 'Tunisia', 'Turkey', 'Ukraine',\n",
       "       'United Arab Emirates', 'United Kingdom', 'United States',\n",
       "       'Uruguay', 'Uzbekistan', 'Vietnam', 'Wales', 'West Indies',\n",
       "       'Yemen', 'Unknown'], dtype=object)"
      ]
     },
     "execution_count": 6,
     "metadata": {},
     "output_type": "execute_result"
    }
   ],
   "source": [
    "df['Country'].unique()"
   ]
  },
  {
   "cell_type": "code",
   "execution_count": 7,
   "metadata": {},
   "outputs": [
    {
     "name": "stdout",
     "output_type": "stream",
     "text": [
      "Missing values per column: \n",
      "Country                          0\n",
      "Repositories Count               0\n",
      "Followers                        0\n",
      "Most Used Language             136\n",
      "Total Stars                      0\n",
      "Account Created At               0\n",
      "Hireable                         0\n",
      "Unique Topics                 5127\n",
      "Total Repository Size (KB)       0\n",
      "dtype: int64\n"
     ]
    }
   ],
   "source": [
    "missing_values = df.isnull().sum()\n",
    "print(\"Missing values per column: \")\n",
    "print(missing_values)"
   ]
  },
  {
   "cell_type": "code",
   "execution_count": 8,
   "metadata": {},
   "outputs": [
    {
     "name": "stdout",
     "output_type": "stream",
     "text": [
      "5826\n"
     ]
    }
   ],
   "source": [
    "# Filter out rows where Country is \"Unknown\"\n",
    "filtered_df = df[df['Country'] != 'Unknown']\n",
    "print(len(filtered_df))"
   ]
  },
  {
   "cell_type": "code",
   "execution_count": 9,
   "metadata": {},
   "outputs": [
    {
     "name": "stdout",
     "output_type": "stream",
     "text": [
      "Missing values per column: \n",
      "Country                          0\n",
      "Repositories Count               0\n",
      "Followers                        0\n",
      "Most Used Language             136\n",
      "Total Stars                      0\n",
      "Account Created At               0\n",
      "Hireable                         0\n",
      "Unique Topics                 5127\n",
      "Total Repository Size (KB)       0\n",
      "dtype: int64\n"
     ]
    }
   ],
   "source": [
    "missing_values = df.isnull().sum()\n",
    "print(\"Missing values per column: \")\n",
    "print(missing_values)"
   ]
  },
  {
   "cell_type": "code",
   "execution_count": 10,
   "metadata": {},
   "outputs": [],
   "source": [
    "df = df.dropna(subset=['Most Used Language'])"
   ]
  },
  {
   "cell_type": "code",
   "execution_count": 11,
   "metadata": {},
   "outputs": [
    {
     "name": "stdout",
     "output_type": "stream",
     "text": [
      "Missing values per column: \n",
      "Country                          0\n",
      "Repositories Count               0\n",
      "Followers                        0\n",
      "Most Used Language               0\n",
      "Total Stars                      0\n",
      "Account Created At               0\n",
      "Hireable                         0\n",
      "Unique Topics                 5019\n",
      "Total Repository Size (KB)       0\n",
      "dtype: int64\n"
     ]
    }
   ],
   "source": [
    "missing_values = df.isnull().sum()\n",
    "print(\"Missing values per column: \")\n",
    "print(missing_values)"
   ]
  },
  {
   "cell_type": "code",
   "execution_count": 12,
   "metadata": {},
   "outputs": [],
   "source": [
    "df['Unique Topics'] = df['Unique Topics'].fillna('Unknown')"
   ]
  },
  {
   "cell_type": "code",
   "execution_count": 13,
   "metadata": {},
   "outputs": [
    {
     "name": "stdout",
     "output_type": "stream",
     "text": [
      "Missing values per column: \n",
      "Country                       0\n",
      "Repositories Count            0\n",
      "Followers                     0\n",
      "Most Used Language            0\n",
      "Total Stars                   0\n",
      "Account Created At            0\n",
      "Hireable                      0\n",
      "Unique Topics                 0\n",
      "Total Repository Size (KB)    0\n",
      "dtype: int64\n"
     ]
    }
   ],
   "source": [
    "missing_values = df.isnull().sum()\n",
    "print(\"Missing values per column: \")\n",
    "print(missing_values)"
   ]
  },
  {
   "cell_type": "code",
   "execution_count": 14,
   "metadata": {},
   "outputs": [
    {
     "name": "stdout",
     "output_type": "stream",
     "text": [
      "Results saved to '('../data/final_cleaned_data.csv'.\n"
     ]
    }
   ],
   "source": [
    "df.to_csv('../data/final_cleaned_data.csv', index=False)\n",
    "print(\"Results saved to '('../data/final_cleaned_data.csv'.\")"
   ]
  },
  {
   "cell_type": "code",
   "execution_count": null,
   "metadata": {},
   "outputs": [],
   "source": []
  }
 ],
 "metadata": {
  "kernelspec": {
   "display_name": ".vnev",
   "language": "python",
   "name": "python3"
  },
  "language_info": {
   "codemirror_mode": {
    "name": "ipython",
    "version": 3
   },
   "file_extension": ".py",
   "mimetype": "text/x-python",
   "name": "python",
   "nbconvert_exporter": "python",
   "pygments_lexer": "ipython3",
   "version": "3.12.6"
  }
 },
 "nbformat": 4,
 "nbformat_minor": 2
}
