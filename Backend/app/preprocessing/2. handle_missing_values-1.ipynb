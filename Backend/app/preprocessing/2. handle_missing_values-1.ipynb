{
 "cells": [
  {
   "cell_type": "code",
   "execution_count": 2,
   "metadata": {},
   "outputs": [],
   "source": [
    "import pandas as pd"
   ]
  },
  {
   "cell_type": "code",
   "execution_count": 3,
   "metadata": {},
   "outputs": [],
   "source": [
    "df = pd.read_csv(r'../data/cleaned_dataset_step_1.csv')"
   ]
  },
  {
   "cell_type": "code",
   "execution_count": 4,
   "metadata": {},
   "outputs": [
    {
     "data": {
      "text/html": [
       "<div>\n",
       "<style scoped>\n",
       "    .dataframe tbody tr th:only-of-type {\n",
       "        vertical-align: middle;\n",
       "    }\n",
       "\n",
       "    .dataframe tbody tr th {\n",
       "        vertical-align: top;\n",
       "    }\n",
       "\n",
       "    .dataframe thead th {\n",
       "        text-align: right;\n",
       "    }\n",
       "</style>\n",
       "<table border=\"1\" class=\"dataframe\">\n",
       "  <thead>\n",
       "    <tr style=\"text-align: right;\">\n",
       "      <th></th>\n",
       "      <th>Country</th>\n",
       "      <th>Repositories Count</th>\n",
       "      <th>Followers</th>\n",
       "      <th>Most Used Language</th>\n",
       "      <th>Total Stars</th>\n",
       "      <th>Account Created At</th>\n",
       "      <th>Hireable</th>\n",
       "      <th>Unique Topics</th>\n",
       "      <th>Total Repository Size (KB)</th>\n",
       "    </tr>\n",
       "  </thead>\n",
       "  <tbody>\n",
       "    <tr>\n",
       "      <th>0</th>\n",
       "      <td>Singapore</td>\n",
       "      <td>30</td>\n",
       "      <td>102331</td>\n",
       "      <td>JavaScript</td>\n",
       "      <td>2980</td>\n",
       "      <td>2010-11-28T01:05:40Z</td>\n",
       "      <td>NaN</td>\n",
       "      <td>NaN</td>\n",
       "      <td>155931</td>\n",
       "    </tr>\n",
       "    <tr>\n",
       "      <th>1</th>\n",
       "      <td>San Francisco</td>\n",
       "      <td>30</td>\n",
       "      <td>44504</td>\n",
       "      <td>Python</td>\n",
       "      <td>11169</td>\n",
       "      <td>2009-07-25T19:06:27Z</td>\n",
       "      <td>NaN</td>\n",
       "      <td>robotics, audio-synthesis, denoising-diffusion...</td>\n",
       "      <td>679441</td>\n",
       "    </tr>\n",
       "    <tr>\n",
       "      <th>2</th>\n",
       "      <td>Austin, TX</td>\n",
       "      <td>30</td>\n",
       "      <td>44094</td>\n",
       "      <td>JavaScript</td>\n",
       "      <td>23441</td>\n",
       "      <td>2009-11-08T06:56:21Z</td>\n",
       "      <td>TRUE</td>\n",
       "      <td>async-patterns, observables, security, arrow-f...</td>\n",
       "      <td>62877</td>\n",
       "    </tr>\n",
       "    <tr>\n",
       "      <th>3</th>\n",
       "      <td>San Francisco, CA</td>\n",
       "      <td>30</td>\n",
       "      <td>36793</td>\n",
       "      <td>Python</td>\n",
       "      <td>4517</td>\n",
       "      <td>2011-12-22T09:57:32Z</td>\n",
       "      <td>TRUE</td>\n",
       "      <td>NaN</td>\n",
       "      <td>305704</td>\n",
       "    </tr>\n",
       "    <tr>\n",
       "      <th>4</th>\n",
       "      <td>9th Ring, Vim</td>\n",
       "      <td>30</td>\n",
       "      <td>36494</td>\n",
       "      <td>JavaScript</td>\n",
       "      <td>4675</td>\n",
       "      <td>2013-05-17T15:05:59Z</td>\n",
       "      <td>NaN</td>\n",
       "      <td>NaN</td>\n",
       "      <td>290287</td>\n",
       "    </tr>\n",
       "  </tbody>\n",
       "</table>\n",
       "</div>"
      ],
      "text/plain": [
       "             Country Repositories Count Followers Most Used Language  \\\n",
       "0          Singapore                 30    102331         JavaScript   \n",
       "1      San Francisco                 30     44504             Python   \n",
       "2         Austin, TX                 30     44094         JavaScript   \n",
       "3  San Francisco, CA                 30     36793             Python   \n",
       "4      9th Ring, Vim                 30     36494         JavaScript   \n",
       "\n",
       "  Total Stars    Account Created At Hireable  \\\n",
       "0        2980  2010-11-28T01:05:40Z      NaN   \n",
       "1       11169  2009-07-25T19:06:27Z      NaN   \n",
       "2       23441  2009-11-08T06:56:21Z     TRUE   \n",
       "3        4517  2011-12-22T09:57:32Z     TRUE   \n",
       "4        4675  2013-05-17T15:05:59Z      NaN   \n",
       "\n",
       "                                       Unique Topics  \\\n",
       "0                                                NaN   \n",
       "1  robotics, audio-synthesis, denoising-diffusion...   \n",
       "2  async-patterns, observables, security, arrow-f...   \n",
       "3                                                NaN   \n",
       "4                                                NaN   \n",
       "\n",
       "  Total Repository Size (KB)  \n",
       "0                     155931  \n",
       "1                     679441  \n",
       "2                      62877  \n",
       "3                     305704  \n",
       "4                     290287  "
      ]
     },
     "execution_count": 4,
     "metadata": {},
     "output_type": "execute_result"
    }
   ],
   "source": [
    "df.head()"
   ]
  },
  {
   "cell_type": "code",
   "execution_count": 6,
   "metadata": {},
   "outputs": [
    {
     "name": "stdout",
     "output_type": "stream",
     "text": [
      "Missing values per column: \n",
      "Country                       4275\n",
      "Repositories Count              10\n",
      "Followers                       10\n",
      "Most Used Language            2020\n",
      "Total Stars                     10\n",
      "Account Created At              18\n",
      "Hireable                      8499\n",
      "Unique Topics                 6973\n",
      "Total Repository Size (KB)      10\n",
      "dtype: int64\n"
     ]
    }
   ],
   "source": [
    "missing_values = df.isnull().sum()\n",
    "print(\"Missing values per column: \")\n",
    "print(missing_values)"
   ]
  },
  {
   "cell_type": "code",
   "execution_count": 5,
   "metadata": {},
   "outputs": [],
   "source": [
    "# Filling missing values on Hireable\n",
    "df['Hireable'] = df['Hireable'].fillna(False)"
   ]
  },
  {
   "cell_type": "code",
   "execution_count": 6,
   "metadata": {},
   "outputs": [
    {
     "name": "stdout",
     "output_type": "stream",
     "text": [
      "Missing values per column after handling 'Hireable': \n",
      "Country                       4275\n",
      "Repositories Count              10\n",
      "Followers                       10\n",
      "Most Used Language            2020\n",
      "Total Stars                     10\n",
      "Account Created At              18\n",
      "Hireable                         0\n",
      "Unique Topics                 6973\n",
      "Total Repository Size (KB)      10\n",
      "dtype: int64\n"
     ]
    }
   ],
   "source": [
    "missing_values = df.isnull().sum()\n",
    "print(\"Missing values per column after handling 'Hireable': \")\n",
    "print(missing_values)"
   ]
  },
  {
   "cell_type": "code",
   "execution_count": 7,
   "metadata": {},
   "outputs": [
    {
     "name": "stdout",
     "output_type": "stream",
     "text": [
      "Total count of missing Top Repo, Repo count, total stars and followers:  10\n"
     ]
    }
   ],
   "source": [
    "# checking if the missing values in Repositories Count, Total Repository Size (KB), Total Stars and Followers are the same\n",
    "missing_rows = df[df['Total Repository Size (KB)'].isnull() & df['Repositories Count'].isnull() & df['Total Stars'].isnull() & df['Followers'].isnull()]\n",
    "print(\"Total count of missing Top Repo, Repo count, total stars and followers: \",len(missing_rows))"
   ]
  },
  {
   "cell_type": "code",
   "execution_count": 8,
   "metadata": {},
   "outputs": [],
   "source": [
    "# Dropping rows which have all 4 attributes missing\n",
    "df = df.dropna(subset=['Total Repository Size (KB)','Repositories Count','Total Stars', 'Followers'], how = 'all')"
   ]
  },
  {
   "cell_type": "code",
   "execution_count": 9,
   "metadata": {},
   "outputs": [
    {
     "name": "stdout",
     "output_type": "stream",
     "text": [
      "Missing values per column after hadling 'Total Repository Size (KB)','Repositories Count','Total Stars' and 'Followers': \n",
      "Country                       4265\n",
      "Repositories Count               0\n",
      "Followers                        0\n",
      "Most Used Language            2010\n",
      "Total Stars                      0\n",
      "Account Created At               8\n",
      "Hireable                         0\n",
      "Unique Topics                 6963\n",
      "Total Repository Size (KB)       0\n",
      "dtype: int64\n"
     ]
    }
   ],
   "source": [
    "missing_values = df.isnull().sum()\n",
    "print(\"Missing values per column after hadling 'Total Repository Size (KB)','Repositories Count','Total Stars' and 'Followers': \")\n",
    "print(missing_values)"
   ]
  },
  {
   "cell_type": "code",
   "execution_count": 10,
   "metadata": {},
   "outputs": [],
   "source": [
    "# Dropping rows which have 'Account Created At' row missing\n",
    "df = df.dropna(subset=['Account Created At'])"
   ]
  },
  {
   "cell_type": "code",
   "execution_count": 11,
   "metadata": {},
   "outputs": [
    {
     "name": "stdout",
     "output_type": "stream",
     "text": [
      "Missing values per column after hadling 'Account Created At': \n",
      "Country                       4265\n",
      "Repositories Count               0\n",
      "Followers                        0\n",
      "Most Used Language            2002\n",
      "Total Stars                      0\n",
      "Account Created At               0\n",
      "Hireable                         0\n",
      "Unique Topics                 6955\n",
      "Total Repository Size (KB)       0\n",
      "dtype: int64\n"
     ]
    }
   ],
   "source": [
    "missing_values = df.isnull().sum()\n",
    "print(\"Missing values per column after hadling 'Account Created At': \")\n",
    "print(missing_values)"
   ]
  },
  {
   "cell_type": "code",
   "execution_count": 12,
   "metadata": {},
   "outputs": [
    {
     "name": "stdout",
     "output_type": "stream",
     "text": [
      "Missing values per column after handling conversions:\n",
      "Country                       4265\n",
      "Repositories Count               1\n",
      "Followers                        1\n",
      "Most Used Language            2002\n",
      "Total Stars                      1\n",
      "Account Created At               1\n",
      "Hireable                         0\n",
      "Unique Topics                 6955\n",
      "Total Repository Size (KB)       1\n",
      "dtype: int64\n"
     ]
    }
   ],
   "source": [
    "# Manually convert columns to numeric, coercing errors to NaN\n",
    "df['Repositories Count'] = pd.to_numeric(df['Repositories Count'], errors='coerce')\n",
    "df['Followers'] = pd.to_numeric(df['Followers'], errors='coerce')\n",
    "df['Total Stars'] = pd.to_numeric(df['Total Stars'], errors='coerce')\n",
    "df['Total Repository Size (KB)'] = pd.to_numeric(df['Total Repository Size (KB)'], errors='coerce')\n",
    "\n",
    "# Convert 'Account Created At' to datetime, coercing errors to NaT (Not a Time)\n",
    "df['Account Created At'] = pd.to_datetime(df['Account Created At'], errors='coerce')\n",
    "\n",
    "# Check missing values after conversion\n",
    "missing_values = df.isnull().sum()\n",
    "print(\"Missing values per column after handling conversions:\")\n",
    "print(missing_values)\n",
    "\n"
   ]
  },
  {
   "cell_type": "code",
   "execution_count": 13,
   "metadata": {},
   "outputs": [
    {
     "name": "stdout",
     "output_type": "stream",
     "text": [
      "Total count of missing Top Repo, Repo count, total stars and followers:  1\n"
     ]
    }
   ],
   "source": [
    "# checking if the missing values in Repositories Count, Total Repository Size (KB), Total Stars and Followers are the same\n",
    "missing_rows = df[df['Total Repository Size (KB)'].isnull() & df['Repositories Count'].isnull() & df['Total Stars'].isnull() & df['Followers'].isnull() & df['Account Created At'].isnull()]\n",
    "print(\"Total count of missing Top Repo, Repo count, total stars and followers: \",len(missing_rows))"
   ]
  },
  {
   "cell_type": "code",
   "execution_count": 14,
   "metadata": {},
   "outputs": [],
   "source": [
    "# Dropping rows which have all 4 attributes missing\n",
    "df = df.dropna(subset=['Total Repository Size (KB)','Repositories Count','Total Stars', 'Followers','Account Created At'], how = 'all')"
   ]
  },
  {
   "cell_type": "code",
   "execution_count": 15,
   "metadata": {},
   "outputs": [
    {
     "name": "stdout",
     "output_type": "stream",
     "text": [
      "Missing values per column after hadling all coreced values: \n",
      "Country                       4265\n",
      "Repositories Count               0\n",
      "Followers                        0\n",
      "Most Used Language            2002\n",
      "Total Stars                      0\n",
      "Account Created At               0\n",
      "Hireable                         0\n",
      "Unique Topics                 6955\n",
      "Total Repository Size (KB)       0\n",
      "dtype: int64\n"
     ]
    }
   ],
   "source": [
    "missing_values = df.isnull().sum()\n",
    "print(\"Missing values per column after hadling all coreced values: \")\n",
    "print(missing_values)"
   ]
  },
  {
   "cell_type": "code",
   "execution_count": 16,
   "metadata": {},
   "outputs": [],
   "source": [
    "df.to_csv('../data/cleaned_dataset_step_2.csv', index=False)\n"
   ]
  },
  {
   "cell_type": "code",
   "execution_count": null,
   "metadata": {},
   "outputs": [],
   "source": []
  }
 ],
 "metadata": {
  "kernelspec": {
   "display_name": ".venv",
   "language": "python",
   "name": "python3"
  },
  "language_info": {
   "codemirror_mode": {
    "name": "ipython",
    "version": 3
   },
   "file_extension": ".py",
   "mimetype": "text/x-python",
   "name": "python",
   "nbconvert_exporter": "python",
   "pygments_lexer": "ipython3",
   "version": "3.12.6"
  }
 },
 "nbformat": 4,
 "nbformat_minor": 2
}
